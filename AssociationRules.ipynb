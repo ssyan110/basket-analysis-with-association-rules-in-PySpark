{
 "cells": [
  {
   "cell_type": "markdown",
   "metadata": {
    "vscode": {
     "languageId": "plaintext"
    }
   },
   "source": [
    "# Association Rules"
   ]
  },
  {
   "cell_type": "markdown",
   "metadata": {},
   "source": [
    "# Case 1: Using id"
   ]
  },
  {
   "cell_type": "code",
   "execution_count": 1,
   "metadata": {},
   "outputs": [],
   "source": [
    "import findspark\n",
    "findspark.init()\n",
    "\n",
    "from pyspark.sql import SparkSession\n",
    "from pyspark.sql.functions import col\n",
    "from pyspark.sql.functions import col, explode, count, when, isnull\n"
   ]
  },
  {
   "cell_type": "code",
   "execution_count": 2,
   "metadata": {},
   "outputs": [
    {
     "name": "stderr",
     "output_type": "stream",
     "text": [
      "25/01/27 12:21:33 WARN Utils: Your hostname, Adams-MacBook-Pro.local resolves to a loopback address: 127.0.0.1; using 172.20.10.10 instead (on interface en0)\n",
      "25/01/27 12:21:33 WARN Utils: Set SPARK_LOCAL_IP if you need to bind to another address\n",
      "Setting default log level to \"WARN\".\n",
      "To adjust logging level use sc.setLogLevel(newLevel). For SparkR, use setLogLevel(newLevel).\n",
      "25/01/27 12:21:34 WARN NativeCodeLoader: Unable to load native-hadoop library for your platform... using builtin-java classes where applicable\n",
      "25/01/27 12:21:34 WARN Utils: Service 'SparkUI' could not bind on port 4040. Attempting port 4041.\n",
      "25/01/27 12:21:34 WARN Utils: Service 'SparkUI' could not bind on port 4041. Attempting port 4042.\n"
     ]
    }
   ],
   "source": [
    "spark = SparkSession.builder \\\n",
    "    .appName(\"AssociationRules\") \\\n",
    "    .getOrCreate()"
   ]
  },
  {
   "cell_type": "code",
   "execution_count": 3,
   "metadata": {},
   "outputs": [
    {
     "name": "stdout",
     "output_type": "stream",
     "text": [
      "+---+----+----+\n",
      "|_c0| _c1| _c2|\n",
      "+---+----+----+\n",
      "|  1|11.0|21.0|\n",
      "|  2| 7.0|11.0|\n",
      "|  3| 3.0|33.0|\n",
      "|  4| 5.0|12.0|\n",
      "|  5| 6.0|18.0|\n",
      "+---+----+----+\n",
      "only showing top 5 rows\n",
      "\n",
      "root\n",
      " |-- _c0: integer (nullable = true)\n",
      " |-- _c1: double (nullable = true)\n",
      " |-- _c2: double (nullable = true)\n",
      "\n"
     ]
    }
   ],
   "source": [
    "bakery_data = spark.read.csv(\n",
    "    \"/Users/ssyan110/Codes/Big_data_in_machine_learning/Final/Data/75000/75000-out1.csv\",\n",
    "    header=False,\n",
    "    inferSchema=True\n",
    ")\n",
    "bakery_data.show(5)\n",
    "bakery_data.printSchema()"
   ]
  },
  {
   "cell_type": "code",
   "execution_count": 4,
   "metadata": {},
   "outputs": [
    {
     "name": "stdout",
     "output_type": "stream",
     "text": [
      "+-------------+-------+-------+\n",
      "|TransactionID|ItemID1|ItemID2|\n",
      "+-------------+-------+-------+\n",
      "|            1|   11.0|   21.0|\n",
      "|            2|    7.0|   11.0|\n",
      "|            3|    3.0|   33.0|\n",
      "|            4|    5.0|   12.0|\n",
      "|            5|    6.0|   18.0|\n",
      "+-------------+-------+-------+\n",
      "only showing top 5 rows\n",
      "\n",
      "root\n",
      " |-- TransactionID: integer (nullable = true)\n",
      " |-- ItemID1: double (nullable = true)\n",
      " |-- ItemID2: double (nullable = true)\n",
      "\n"
     ]
    }
   ],
   "source": [
    "# Name the columns\n",
    "bakery_data = bakery_data.toDF(\"TransactionID\", \"ItemID1\", \"ItemID2\")\n",
    "bakery_data.show(5)\n",
    "bakery_data.printSchema()"
   ]
  },
  {
   "cell_type": "markdown",
   "metadata": {},
   "source": [
    "## Preprocessing"
   ]
  },
  {
   "cell_type": "code",
   "execution_count": 5,
   "metadata": {},
   "outputs": [
    {
     "name": "stdout",
     "output_type": "stream",
     "text": [
      "+-------------+-------+-------+\n",
      "|TransactionID|ItemID1|ItemID2|\n",
      "+-------------+-------+-------+\n",
      "|            0|      0|   3592|\n",
      "+-------------+-------+-------+\n",
      "\n"
     ]
    }
   ],
   "source": [
    "# check for missing data\n",
    "bakery_data.select([count(when(isnull(c), c)).alias(c) for c in bakery_data.columns]).show()"
   ]
  },
  {
   "cell_type": "code",
   "execution_count": 6,
   "metadata": {},
   "outputs": [
    {
     "name": "stdout",
     "output_type": "stream",
     "text": [
      "+-------------+-------+-------+\n",
      "|TransactionID|ItemID1|ItemID2|\n",
      "+-------------+-------+-------+\n",
      "|            1|   11.0|   21.0|\n",
      "|            2|    7.0|   11.0|\n",
      "|            3|    3.0|   33.0|\n",
      "|            4|    5.0|   12.0|\n",
      "|            5|    6.0|   18.0|\n",
      "+-------------+-------+-------+\n",
      "only showing top 5 rows\n",
      "\n"
     ]
    }
   ],
   "source": [
    "valid_data = bakery_data.filter(bakery_data[\"ItemID2\"].isNotNull())\n",
    "valid_data.show(5)"
   ]
  },
  {
   "cell_type": "markdown",
   "metadata": {},
   "source": [
    "## EDA"
   ]
  },
  {
   "cell_type": "code",
   "execution_count": 7,
   "metadata": {},
   "outputs": [
    {
     "name": "stdout",
     "output_type": "stream",
     "text": [
      "+-------+-----------------+------------------+------------------+\n",
      "|summary|    TransactionID|           ItemID1|           ItemID2|\n",
      "+-------+-----------------+------------------+------------------+\n",
      "|  count|            75000|             75000|             71408|\n",
      "|   mean|          37500.5|10.907106666666667|21.120266636791396|\n",
      "| stddev|21650.77943169714| 9.988473077663798|  11.6884778948076|\n",
      "|    min|                1|               0.0|               1.0|\n",
      "|    max|            75000|              49.0|              49.0|\n",
      "+-------+-----------------+------------------+------------------+\n",
      "\n"
     ]
    }
   ],
   "source": [
    "bakery_data.describe().show()"
   ]
  },
  {
   "cell_type": "code",
   "execution_count": 8,
   "metadata": {},
   "outputs": [
    {
     "data": {
      "image/png": "[encoded data removed]",
      "text/plain": [
       "<Figure size 1000x600 with 1 Axes>"
      ]
     },
     "metadata": {},
     "output_type": "display_data"
    }
   ],
   "source": [
    "import matplotlib.pyplot as plt\n",
    "\n",
    "# Count occurrences of each item\n",
    "item_counts = bakery_data.groupBy(\"ItemID1\").agg(count(\"*\").alias(\"Count\"))\n",
    "top_items = item_counts.orderBy(\"Count\", ascending=False).limit(10)\n",
    "\n",
    "\n",
    "top_items_pd = top_items.toPandas()\n",
    "top_items_pd[\"ItemID1\"] = top_items_pd[\"ItemID1\"].astype(int).astype(str)\n",
    "\n",
    "# Plot again with cleaned labels\n",
    "plt.figure(figsize=(10, 6))\n",
    "plt.bar(top_items_pd[\"ItemID1\"], top_items_pd[\"Count\"])\n",
    "plt.title(\"Top 10 Most Frequently Purchased Items\")\n",
    "plt.xlabel(\"Item ID\")\n",
    "plt.ylabel(\"Count\")\n",
    "plt.xticks(rotation=45)  # Rotate labels for better readability\n",
    "plt.show()"
   ]
  },
  {
   "cell_type": "code",
   "execution_count": 9,
   "metadata": {},
   "outputs": [
    {
     "data": {
      "image/png": "[encoded data removed]",
      "text/plain": [
       "<Figure size 1000x600 with 1 Axes>"
      ]
     },
     "metadata": {},
     "output_type": "display_data"
    }
   ],
   "source": [
    "from pyspark.sql.functions import array, explode, col, count\n",
    "\n",
    "# Combine ItemID1 and ItemID2 into an array column\n",
    "bakery_data = bakery_data.withColumn(\"Items\", array(\"ItemID1\", \"ItemID2\"))\n",
    "\n",
    "# Explode the array into individual rows\n",
    "exploded_data = bakery_data.select(\"TransactionID\", explode(col(\"Items\")).alias(\"Item\"))\n",
    "\n",
    "# Count occurrences of each item pair (after exploding)\n",
    "pair_counts = exploded_data.alias(\"a\") \\\n",
    "    .join(exploded_data.alias(\"b\"), col(\"a.TransactionID\") == col(\"b.TransactionID\")) \\\n",
    "    .filter(col(\"a.Item\") < col(\"b.Item\")) \\\n",
    "    .groupBy(\"a.Item\", \"b.Item\") \\\n",
    "    .agg(count(\"*\").alias(\"PairCount\"))\n",
    "\n",
    "# Get the top 10 most common pairs\n",
    "top_pairs = pair_counts.orderBy(\"PairCount\", ascending=False).limit(10)\n",
    "\n",
    "# Convert to Pandas for visualization\n",
    "top_pairs_pd = top_pairs.toPandas()\n",
    "\n",
    "# Ensure correct referencing of DataFrame columns\n",
    "top_pairs_pd.columns = [\"Item1\", \"Item2\", \"PairCount\"]  # Renaming columns for clarity\n",
    "\n",
    "# Plot the top 10 item pairs\n",
    "plt.figure(figsize=(10, 6))\n",
    "plt.bar(\n",
    "    [f\"{row['Item1']}-{row['Item2']}\" for _, row in top_pairs_pd.iterrows()],\n",
    "    top_pairs_pd[\"PairCount\"]\n",
    ")\n",
    "plt.title(\"Top 10 Most Frequently Purchased Item Pairs\")\n",
    "plt.xlabel(\"Item Pairs\")\n",
    "plt.ylabel(\"Count\")\n",
    "plt.xticks(rotation=45, ha=\"right\")\n",
    "plt.show()"
   ]
  },
  {
   "cell_type": "markdown",
   "metadata": {},
   "source": [
    "### Top 10 Most Frequently Purchased Item Pairs\n",
    "- The bar chart shows the most commonly purchased item pairs, such as \"0-2\", \"4-9\", and \"7-11\".\n",
    "- **Actionable Insights**:\n",
    "  - These combinations suggest items that frequently co-occur in transactions.\n",
    "  - Promote these pairs through discounts, bundle offers, or co-location on shelves to increase sales."
   ]
  },
  {
   "cell_type": "markdown",
   "metadata": {},
   "source": [
    "## Generate frequent itemsets"
   ]
  },
  {
   "cell_type": "code",
   "execution_count": 10,
   "metadata": {},
   "outputs": [
    {
     "name": "stdout",
     "output_type": "stream",
     "text": [
      "Frequent Itemsets:\n",
      "+------------+----+\n",
      "|items       |freq|\n",
      "+------------+----+\n",
      "|[32.0]      |2983|\n",
      "|[32.0, 16.0]|1950|\n",
      "|[21.0]      |1771|\n",
      "|[NULL]      |3592|\n",
      "|[9.0]       |5124|\n",
      "|[9.0, 4.0]  |2504|\n",
      "|[44.0]      |1331|\n",
      "|[44.0, 14.0]|864 |\n",
      "|[10.0]      |2616|\n",
      "|[11.0]      |4955|\n",
      "+------------+----+\n",
      "only showing top 10 rows\n",
      "\n"
     ]
    }
   ],
   "source": [
    "from pyspark.ml.fpm import FPGrowth\n",
    "\n",
    "fp_data = bakery_data.select(\"TransactionID\", \"Items\").distinct()\n",
    "\n",
    "fp_growth = FPGrowth(itemsCol=\"Items\", minSupport=0.01, minConfidence=0.1)\n",
    "model = fp_growth.fit(fp_data)\n",
    "\n",
    "print(\"Frequent Itemsets:\")\n",
    "frequent_itemsets = model.freqItemsets\n",
    "frequent_itemsets.show(10, truncate=False)\n"
   ]
  },
  {
   "cell_type": "code",
   "execution_count": 11,
   "metadata": {},
   "outputs": [
    {
     "name": "stdout",
     "output_type": "stream",
     "text": [
      "+----------+----------+-------------------+------------------+--------------------+\n",
      "|antecedent|consequent|confidence         |lift              |support             |\n",
      "+----------+----------+-------------------+------------------+--------------------+\n",
      "|[19.0]    |[1.0]     |0.4651851851851852 |5.563528765569908 |0.020933333333333335|\n",
      "|[14.0]    |[44.0]    |0.1648854961832061 |9.291068530233252 |0.01152             |\n",
      "|[12.0]    |[31.0]    |0.3579713440982488 |10.430400469063192|0.020986666666666667|\n",
      "|[17.0]    |[29.0]    |0.3320222119389172 |9.799947223698855 |0.019133333333333332|\n",
      "|[16.0]    |[32.0]    |0.3890662410215483 |9.782087856726825 |0.026               |\n",
      "|[15.0]    |[7.0]     |0.4837935174069628 |4.619288835839874 |0.026866666666666667|\n",
      "|[33.0]    |[42.0]    |0.3631142310146777 |13.664609797341107|0.015173333333333334|\n",
      "|[4.0]     |[9.0]     |0.36823529411764705|5.389860862377738 |0.03338666666666667 |\n",
      "|[9.0]     |[4.0]     |0.4886807181889149 |5.389860862377738 |0.03338666666666667 |\n",
      "|[0.0]     |[2.0]     |0.41707901037509976|5.611935015811353 |0.03484             |\n",
      "+----------+----------+-------------------+------------------+--------------------+\n",
      "only showing top 10 rows\n",
      "\n"
     ]
    }
   ],
   "source": [
    "association_rules = model.associationRules\n",
    "association_rules.show(10, truncate=False)"
   ]
  },
  {
   "cell_type": "markdown",
   "metadata": {},
   "source": [
    "## Check timesets"
   ]
  },
  {
   "cell_type": "code",
   "execution_count": 12,
   "metadata": {},
   "outputs": [
    {
     "name": "stdout",
     "output_type": "stream",
     "text": [
      "+------+----+\n",
      "|items |freq|\n",
      "+------+----+\n",
      "|[7.0] |7855|\n",
      "|[4.0] |6800|\n",
      "|[1.0] |6271|\n",
      "|[0.0] |6265|\n",
      "|[3.0] |6076|\n",
      "|[5.0] |5971|\n",
      "|[2.0] |5574|\n",
      "|[14.0]|5240|\n",
      "|[9.0] |5124|\n",
      "|[18.0]|5047|\n",
      "+------+----+\n",
      "only showing top 10 rows\n",
      "\n"
     ]
    }
   ],
   "source": [
    "frequent_itemsets.orderBy(\"freq\", ascending=False).show(10, truncate=False)"
   ]
  },
  {
   "cell_type": "code",
   "execution_count": 13,
   "metadata": {},
   "outputs": [
    {
     "data": {
      "image/png": "[encoded data removed]",
      "text/plain": [
       "<Figure size 1000x600 with 1 Axes>"
      ]
     },
     "metadata": {},
     "output_type": "display_data"
    }
   ],
   "source": [
    "import pandas as pd\n",
    "import matplotlib.pyplot as plt\n",
    "\n",
    "# Convert rules to Pandas for visualization\n",
    "rules_pd = association_rules.toPandas()\n",
    "\n",
    "# Plot confidence vs. lift\n",
    "plt.figure(figsize=(10, 6))\n",
    "plt.scatter(rules_pd[\"confidence\"], rules_pd[\"lift\"], alpha=0.7)\n",
    "plt.title(\"Association Rules: Confidence vs. Lift\")\n",
    "plt.xlabel(\"Confidence\")\n",
    "plt.ylabel(\"Lift\")\n",
    "plt.grid(True)\n",
    "plt.show()"
   ]
  },
  {
   "cell_type": "markdown",
   "metadata": {},
   "source": [
    "### Confidence vs. Lift Scatterplot\n",
    "- The scatterplot highlights the relationship between **confidence** and **lift** for association rules.\n",
    "- Rules with high **confidence** (e.g., `[Raspberry Lemonade] → [Lemon Cookie]`) and high **lift** indicate strong dependencies.\n",
    "- **Actionable Insights**:\n",
    "  - High-lift rules (e.g., lift > 10) suggest products that have strong cross-sell potential.\n",
    "  - Target these rules in marketing campaigns or email recommendations.\n"
   ]
  },
  {
   "cell_type": "markdown",
   "metadata": {},
   "source": [
    "# Case 2: Including flavor and food name"
   ]
  },
  {
   "cell_type": "code",
   "execution_count": 14,
   "metadata": {},
   "outputs": [],
   "source": [
    "transactions = spark.read.csv(\"/Users/ssyan110/Codes/Big_data_in_machine_learning/Final/Data/75000/75000i.csv\", header=False, inferSchema=True)\n",
    "transactions = transactions.toDF(\"TransactionID\", \"Quantity\", \"ItemID\")\n",
    "\n",
    "goods = spark.read.csv(\"/Users/ssyan110/Codes/Big_data_in_machine_learning/Final/Data/75000/goods.csv\", header=True, inferSchema=True)"
   ]
  },
  {
   "cell_type": "code",
   "execution_count": 15,
   "metadata": {},
   "outputs": [
    {
     "name": "stdout",
     "output_type": "stream",
     "text": [
      "+-------------+--------+------+\n",
      "|TransactionID|Quantity|ItemID|\n",
      "+-------------+--------+------+\n",
      "|            1|       1|    21|\n",
      "|            1|       5|    11|\n",
      "|            2|       1|     7|\n",
      "|            2|       3|    11|\n",
      "|            2|       4|    37|\n",
      "|            2|       3|    45|\n",
      "|            3|       5|     3|\n",
      "|            3|       3|    42|\n",
      "|            3|       3|    33|\n",
      "|            4|       1|     5|\n",
      "|            4|       2|    12|\n",
      "|            4|       1|    47|\n",
      "|            4|       4|    17|\n",
      "|            5|       2|    42|\n",
      "|            5|       5|     6|\n",
      "|            5|       3|    18|\n",
      "|            6|       4|     2|\n",
      "|            6|       3|     4|\n",
      "|            6|       4|    34|\n",
      "|            7|       1|    15|\n",
      "+-------------+--------+------+\n",
      "only showing top 20 rows\n",
      "\n"
     ]
    }
   ],
   "source": [
    "transactions.show()"
   ]
  },
  {
   "cell_type": "code",
   "execution_count": 16,
   "metadata": {},
   "outputs": [
    {
     "name": "stdout",
     "output_type": "stream",
     "text": [
      "+---+------------+--------+-----+------+\n",
      "| Id|      Flavor|    Food|Price|  Type|\n",
      "+---+------------+--------+-----+------+\n",
      "|  0| 'Chocolate'|  'Cake'| 8.95|'Food'|\n",
      "|  1|     'Lemon'|  'Cake'| 8.95|'Food'|\n",
      "|  2|    'Casino'|  'Cake'|15.95|'Food'|\n",
      "|  3|     'Opera'|  'Cake'|15.95|'Food'|\n",
      "|  4|'Strawberry'|  'Cake'|11.95|'Food'|\n",
      "|  5|   'Truffle'|  'Cake'|15.95|'Food'|\n",
      "|  6| 'Chocolate'|'Eclair'| 3.25|'Food'|\n",
      "|  7|    'Coffee'|'Eclair'|  3.5|'Food'|\n",
      "|  8|   'Vanilla'|'Eclair'| 3.25|'Food'|\n",
      "|  9|  'Napoleon'|  'Cake'|13.49|'Food'|\n",
      "| 10|    'Almond'|  'Tart'| 3.75|'Food'|\n",
      "| 11|     'Apple'|   'Pie'| 5.25|'Food'|\n",
      "| 12|     'Apple'|  'Tart'| 3.25|'Food'|\n",
      "| 13|   'Apricot'|  'Tart'| 3.25|'Food'|\n",
      "| 14|     'Berry'|  'Tart'| 3.25|'Food'|\n",
      "| 15|'Blackberry'|  'Tart'| 3.25|'Food'|\n",
      "| 16| 'Blueberry'|  'Tart'| 3.25|'Food'|\n",
      "| 17| 'Chocolate'|  'Tart'| 3.75|'Food'|\n",
      "| 18|    'Cherry'|  'Tart'| 3.25|'Food'|\n",
      "| 19|     'Lemon'|  'Tart'| 3.25|'Food'|\n",
      "+---+------------+--------+-----+------+\n",
      "only showing top 20 rows\n",
      "\n"
     ]
    }
   ],
   "source": [
    "goods.show()"
   ]
  },
  {
   "cell_type": "code",
   "execution_count": 17,
   "metadata": {},
   "outputs": [
    {
     "name": "stdout",
     "output_type": "stream",
     "text": [
      "+-------------+--------+------+---------+--------+\n",
      "|TransactionID|Quantity|ItemID|Flavor   |Food    |\n",
      "+-------------+--------+------+---------+--------+\n",
      "|1            |1       |21    |'Ganache'|'Cookie'|\n",
      "|1            |5       |11    |'Apple'  |'Pie'   |\n",
      "|2            |1       |7     |'Coffee' |'Eclair'|\n",
      "|2            |3       |11    |'Apple'  |'Pie'   |\n",
      "|2            |4       |37    |'Almond' |'Twist' |\n",
      "+-------------+--------+------+---------+--------+\n",
      "only showing top 5 rows\n",
      "\n"
     ]
    }
   ],
   "source": [
    "# Join transactions with goods on ItemID\n",
    "joined_data = transactions.join(goods, transactions[\"ItemID\"] == goods[\"Id\"], how=\"inner\")\n",
    "\n",
    "# Select necessary columns\n",
    "joined_data = joined_data.select(\"TransactionID\", \"Quantity\", \"ItemID\", \"Flavor\", \"Food\")\n",
    "\n",
    "# Display the result\n",
    "joined_data.show(5, truncate=False)"
   ]
  },
  {
   "cell_type": "code",
   "execution_count": 18,
   "metadata": {},
   "outputs": [
    {
     "name": "stdout",
     "output_type": "stream",
     "text": [
      "+-------------+------------------+\n",
      "|TransactionID|ItemDescription   |\n",
      "+-------------+------------------+\n",
      "|1            |'Ganache' 'Cookie'|\n",
      "|1            |'Apple' 'Pie'     |\n",
      "|2            |'Coffee' 'Eclair' |\n",
      "|2            |'Apple' 'Pie'     |\n",
      "|2            |'Almond' 'Twist'  |\n",
      "+-------------+------------------+\n",
      "only showing top 5 rows\n",
      "\n"
     ]
    }
   ],
   "source": [
    "# Creating Item Descriptions together\n",
    "\n",
    "from pyspark.sql.functions import concat_ws\n",
    "\n",
    "# Combine Flavor and Food into a single column\n",
    "joined_data = joined_data.withColumn(\"ItemDescription\", concat_ws(\" \", joined_data[\"Flavor\"], joined_data[\"Food\"]))\n",
    "\n",
    "# Select only the necessary columns for the next steps\n",
    "joined_data = joined_data.select(\"TransactionID\", \"ItemDescription\")\n",
    "\n",
    "# Display the result\n",
    "joined_data.show(5, truncate=False)"
   ]
  },
  {
   "cell_type": "code",
   "execution_count": 19,
   "metadata": {},
   "outputs": [
    {
     "name": "stdout",
     "output_type": "stream",
     "text": [
      "+-------------+--------------------------------------------------------------------------------------------------------------------------------------------------------+\n",
      "|TransactionID|Items                                                                                                                                                   |\n",
      "+-------------+--------------------------------------------------------------------------------------------------------------------------------------------------------+\n",
      "|1            |['Ganache' 'Cookie', 'Apple' 'Pie']                                                                                                                     |\n",
      "|12           |['Casino' 'Cake', 'Opera' 'Cake', 'Raspberry' 'Lemonade', 'Ganache' 'Cookie', 'Apple' 'Pie', 'Almond' 'Twist', 'Single' 'Espresso']                     |\n",
      "|13           |['Green' 'Tea', 'Chocolate' 'Tart', 'Cherry' 'Soda', 'Opera' 'Cake']                                                                                    |\n",
      "|22           |['Coffee' 'Eclair', 'Blackberry' 'Tart', 'Single' 'Espresso']                                                                                           |\n",
      "|26           |['Lemon' 'Tart', 'Vanilla' 'Eclair', 'Chocolate' 'Meringue', 'Blueberry' 'Danish', 'Pecan' 'Tart', 'Blueberry' 'Tart', 'Hot' 'Coffee', 'Truffle' 'Cake']|\n",
      "+-------------+--------------------------------------------------------------------------------------------------------------------------------------------------------+\n",
      "only showing top 5 rows\n",
      "\n"
     ]
    }
   ],
   "source": [
    "from pyspark.sql.functions import collect_list\n",
    "\n",
    "# Group items by TransactionID\n",
    "grouped_data = joined_data.groupBy(\"TransactionID\") \\\n",
    "    .agg(collect_list(\"ItemDescription\").alias(\"Items\"))\n",
    "\n",
    "# Display the grouped data\n",
    "grouped_data.show(5, truncate=False)"
   ]
  },
  {
   "cell_type": "code",
   "execution_count": 20,
   "metadata": {},
   "outputs": [
    {
     "name": "stdout",
     "output_type": "stream",
     "text": [
      "Frequent Itemsets:\n"
     ]
    },
    {
     "name": "stderr",
     "output_type": "stream",
     "text": [
      "[Stage 69:=============================>                            (2 + 2) / 4]\r"
     ]
    },
    {
     "name": "stdout",
     "output_type": "stream",
     "text": [
      "+--------------------------------------------------------------+----+\n",
      "|items                                                         |freq|\n",
      "+--------------------------------------------------------------+----+\n",
      "|['Raspberry' 'Lemonade']                                      |5081|\n",
      "|['Raspberry' 'Lemonade', 'Lemon' 'Cookie']                    |2087|\n",
      "|['Raspberry' 'Lemonade', 'Lemon' 'Cookie', 'Lemon' 'Lemonade']|1922|\n",
      "|['Raspberry' 'Lemonade', 'Lemon' 'Lemonade']                  |2088|\n",
      "|['Almond' 'Bear Claw']                                        |3183|\n",
      "|['Marzipan' 'Cookie']                                         |6733|\n",
      "|['Marzipan' 'Cookie', 'Tuile' 'Cookie']                       |3819|\n",
      "|['Almond' 'Twist']                                            |5790|\n",
      "|['Almond' 'Twist', 'Hot' 'Coffee']                            |2319|\n",
      "|['Almond' 'Twist', 'Hot' 'Coffee', 'Coffee' 'Eclair']         |2109|\n",
      "+--------------------------------------------------------------+----+\n",
      "only showing top 10 rows\n",
      "\n"
     ]
    },
    {
     "name": "stderr",
     "output_type": "stream",
     "text": [
      "                                                                                \r"
     ]
    }
   ],
   "source": [
    "fp_growth = FPGrowth(itemsCol=\"Items\", minSupport=0.01, minConfidence=0.1)\n",
    "model_2 = fp_growth.fit(grouped_data)\n",
    "\n",
    "print(\"Frequent Itemsets:\")\n",
    "model_2.freqItemsets.show(10, truncate=False)"
   ]
  },
  {
   "cell_type": "markdown",
   "metadata": {},
   "source": [
    "### Frequent Itemsets\n",
    "- Top frequent itemsets include pairs like `[\"Coffee\", \"Eclair\"]`, `[\"Hot Coffee\"]`, and `[\"Marzipan Cookie\"]`.\n",
    "- **Actionable Insights**:\n",
    "  - Maintain high stock levels for these combinations to meet customer demand.\n",
    "  - Use popular itemsets as anchors in marketing campaigns (e.g., advertise \"Coffee & Eclair mornings\")."
   ]
  },
  {
   "cell_type": "code",
   "execution_count": 21,
   "metadata": {},
   "outputs": [
    {
     "name": "stdout",
     "output_type": "stream",
     "text": [
      "Association Rules:\n"
     ]
    },
    {
     "name": "stderr",
     "output_type": "stream",
     "text": [
      "[Stage 73:>                 (0 + 4) / 4][Stage 74:>                 (0 + 4) / 4]\r"
     ]
    },
    {
     "name": "stdout",
     "output_type": "stream",
     "text": [
      "+-------------------------------------------------+------------------------+------------------+------------------+--------------------+\n",
      "|antecedent                                       |consequent              |confidence        |lift              |support             |\n",
      "+-------------------------------------------------+------------------------+------------------+------------------+--------------------+\n",
      "|['Raspberry' 'Cookie', 'Lemon' 'Cookie']         |['Green' 'Tea']         |0.7465261140392908|11.95079158013806 |0.020773333333333335|\n",
      "|['Raspberry' 'Cookie', 'Lemon' 'Cookie']         |['Raspberry' 'Lemonade']|0.9228557738380451|13.622157653582638|0.02568             |\n",
      "|['Raspberry' 'Cookie', 'Lemon' 'Cookie']         |['Lemon' 'Lemonade']    |0.9257307139434595|13.565807648643897|0.02576             |\n",
      "|['Apple' 'Pie', 'Almond' 'Twist', 'Hot' 'Coffee']|['Coffee' 'Eclair']     |0.9952471482889734|9.110647640873063 |0.02792             |\n",
      "|['Blueberry' 'Tart']                             |['Hot' 'Coffee']        |0.4224401221668542|4.114676514612216 |0.03504             |\n",
      "|['Blueberry' 'Tart']                             |['Apricot' 'Croissant'] |0.5245137437710979|6.245202537360271 |0.043506666666666666|\n",
      "|['Green' 'Tea', 'Raspberry' 'Lemonade']          |['Lemon' 'Cookie']      |0.9133216986620128|13.42856839828484 |0.020933333333333335|\n",
      "|['Green' 'Tea', 'Raspberry' 'Lemonade']          |['Lemon' 'Lemonade']    |0.9075043630017452|13.29871575324949 |0.0208              |\n",
      "|['Green' 'Tea', 'Raspberry' 'Lemonade']          |['Raspberry' 'Cookie']  |0.9098312972658522|13.45108363787481 |0.020853333333333335|\n",
      "|['Cherry' 'Soda', 'Apple' 'Tart']                |['Apple' 'Croissant']   |0.9116442363955529|13.547318749686244|0.020773333333333335|\n",
      "+-------------------------------------------------+------------------------+------------------+------------------+--------------------+\n",
      "only showing top 10 rows\n",
      "\n"
     ]
    },
    {
     "name": "stderr",
     "output_type": "stream",
     "text": [
      "                                                                                \r"
     ]
    }
   ],
   "source": [
    "print(\"Association Rules:\")\n",
    "model_2.associationRules.show(10, truncate=False)"
   ]
  },
  {
   "cell_type": "markdown",
   "metadata": {},
   "source": [
    "### Association Rules\n",
    "- Association rules like `[Green Tea] → [Raspberry Lemonade]` (lift = 13.3, confidence = 91%) show strong relationships.\n",
    "- **Actionable Insights**:\n",
    "  - Cross-promote related items at checkout (e.g., offer discounts on Raspberry Lemonade with Green Tea purchases).\n",
    "  - Optimize product placement to encourage impulse purchases based on rules.\n"
   ]
  },
  {
   "cell_type": "code",
   "execution_count": 22,
   "metadata": {},
   "outputs": [
    {
     "name": "stdout",
     "output_type": "stream",
     "text": [
      "Predictions:\n",
      "+-------------+--------------------------------------------------------------------------------------------------------------------------------------------------------+----------------------------------------------------------------------------------------------------------------------------------------------------------------------------------------------------------------------------+\n",
      "|TransactionID|Items                                                                                                                                                   |prediction                                                                                                                                                                                                                  |\n",
      "+-------------+--------------------------------------------------------------------------------------------------------------------------------------------------------+----------------------------------------------------------------------------------------------------------------------------------------------------------------------------------------------------------------------------+\n",
      "|1            |['Ganache' 'Cookie', 'Apple' 'Pie']                                                                                                                     |['Almond' 'Twist', 'Hot' 'Coffee', 'Coffee' 'Eclair']                                                                                                                                                                       |\n",
      "|12           |['Casino' 'Cake', 'Opera' 'Cake', 'Raspberry' 'Lemonade', 'Ganache' 'Cookie', 'Apple' 'Pie', 'Almond' 'Twist', 'Single' 'Espresso']                     |['Chocolate' 'Coffee', 'Chocolate' 'Cake', 'Apricot' 'Danish', 'Cherry' 'Tart', 'Hot' 'Coffee', 'Coffee' 'Eclair', 'Lemon' 'Cookie', 'Lemon' 'Lemonade', 'Green' 'Tea', 'Raspberry' 'Cookie', 'Blackberry' 'Tart']          |\n",
      "|13           |['Green' 'Tea', 'Chocolate' 'Tart', 'Cherry' 'Soda', 'Opera' 'Cake']                                                                                    |['Vanilla' 'Frappuccino', 'Walnut' 'Cookie', 'Raspberry' 'Lemonade', 'Lemon' 'Cookie', 'Raspberry' 'Cookie', 'Lemon' 'Lemonade', 'Apricot' 'Danish', 'Cherry' 'Tart', 'Apple' 'Croissant', 'Apple' 'Tart', 'Apple' 'Danish']|\n",
      "|22           |['Coffee' 'Eclair', 'Blackberry' 'Tart', 'Single' 'Espresso']                                                                                           |['Almond' 'Twist', 'Hot' 'Coffee', 'Apple' 'Pie']                                                                                                                                                                           |\n",
      "|26           |['Lemon' 'Tart', 'Vanilla' 'Eclair', 'Chocolate' 'Meringue', 'Blueberry' 'Danish', 'Pecan' 'Tart', 'Blueberry' 'Tart', 'Hot' 'Coffee', 'Truffle' 'Cake']|['Apricot' 'Croissant', 'Lemon' 'Cake', 'Gongolais' 'Cookie', 'Almond' 'Twist', 'Coffee' 'Eclair', 'Apple' 'Pie']                                                                                                           |\n",
      "+-------------+--------------------------------------------------------------------------------------------------------------------------------------------------------+----------------------------------------------------------------------------------------------------------------------------------------------------------------------------------------------------------------------------+\n",
      "only showing top 5 rows\n",
      "\n"
     ]
    }
   ],
   "source": [
    "print(\"Predictions:\")\n",
    "model_2.transform(grouped_data).show(5, truncate=False)"
   ]
  },
  {
   "cell_type": "code",
   "execution_count": 23,
   "metadata": {},
   "outputs": [
    {
     "name": "stdout",
     "output_type": "stream",
     "text": [
      "+---+-----------+--------+-----+------+\n",
      "| Id|     Flavor|    Food|Price|  Type|\n",
      "+---+-----------+--------+-----+------+\n",
      "| 21|  'Ganache'|'Cookie'| 1.15|'Food'|\n",
      "| 22|'Gongolais'|'Cookie'| 1.15|'Food'|\n",
      "| 23|'Raspberry'|'Cookie'| 1.09|'Food'|\n",
      "| 24|    'Lemon'|'Cookie'| 0.79|'Food'|\n",
      "| 27| 'Marzipan'|'Cookie'| 1.25|'Food'|\n",
      "| 28|    'Tuile'|'Cookie'| 1.25|'Food'|\n",
      "| 29|   'Walnut'|'Cookie'| 0.79|'Food'|\n",
      "+---+-----------+--------+-----+------+\n",
      "\n"
     ]
    }
   ],
   "source": [
    "goods.filter((goods[\"Flavor\"].like(\"%Cookie%\")) | (goods[\"Food\"].like(\"%Cookie%\"))).show()"
   ]
  },
  {
   "cell_type": "markdown",
   "metadata": {},
   "source": [
    "## Check frequent itemsets"
   ]
  },
  {
   "cell_type": "code",
   "execution_count": 24,
   "metadata": {},
   "outputs": [
    {
     "name": "stdout",
     "output_type": "stream",
     "text": [
      "+----------------------+----+\n",
      "|items                 |freq|\n",
      "+----------------------+----+\n",
      "|['Coffee' 'Eclair']   |8193|\n",
      "|['Hot' 'Coffee']      |7700|\n",
      "|['Tuile' 'Cookie']    |7556|\n",
      "|['Cherry' 'Tart']     |6987|\n",
      "|['Strawberry' 'Cake'] |6948|\n",
      "|['Apricot' 'Danish']  |6943|\n",
      "|['Orange' 'Juice']    |6871|\n",
      "|['Gongolais' 'Cookie']|6783|\n",
      "|['Marzipan' 'Cookie'] |6733|\n",
      "|['Berry' 'Tart']      |6362|\n",
      "+----------------------+----+\n",
      "only showing top 10 rows\n",
      "\n"
     ]
    }
   ],
   "source": [
    "model_2.freqItemsets.orderBy(\"freq\", ascending=False).show(10, truncate=False)"
   ]
  },
  {
   "cell_type": "code",
   "execution_count": 25,
   "metadata": {},
   "outputs": [
    {
     "name": "stdout",
     "output_type": "stream",
     "text": [
      "+---------------------------------------------------------------------------------+------------------------+------------------+------------------+--------------------+\n",
      "|antecedent                                                                       |consequent              |confidence        |lift              |support             |\n",
      "+---------------------------------------------------------------------------------+------------------------+------------------+------------------+--------------------+\n",
      "|['Green' 'Tea', 'Raspberry' 'Cookie', 'Raspberry' 'Lemonade', 'Lemon' 'Cookie']  |['Lemon' 'Lemonade']    |1.0               |14.654161781946074|0.020733333333333333|\n",
      "|['Green' 'Tea', 'Raspberry' 'Lemonade', 'Lemon' 'Cookie', 'Lemon' 'Lemonade']    |['Raspberry' 'Cookie']  |1.0               |14.78415138971023 |0.020733333333333333|\n",
      "|['Green' 'Tea', 'Raspberry' 'Cookie', 'Lemon' 'Cookie', 'Lemon' 'Lemonade']      |['Raspberry' 'Lemonade']|1.0               |14.760873843731549|0.020733333333333333|\n",
      "|['Green' 'Tea', 'Raspberry' 'Cookie', 'Raspberry' 'Lemonade', 'Lemon' 'Lemonade']|['Lemon' 'Cookie']      |0.9993573264781491|14.69355018346622 |0.020733333333333333|\n",
      "|['Green' 'Tea', 'Raspberry' 'Cookie', 'Lemon' 'Cookie']                          |['Raspberry' 'Lemonade']|0.9980744544287549|14.732451108474045|0.020733333333333333|\n",
      "|['Green' 'Tea', 'Raspberry' 'Cookie', 'Lemon' 'Cookie']                          |['Lemon' 'Lemonade']    |0.9980744544287549|14.625944525626538|0.020733333333333333|\n",
      "|['Green' 'Tea', 'Raspberry' 'Lemonade', 'Lemon' 'Lemonade']                      |['Raspberry' 'Cookie']  |0.9974358974358974|14.746243309223793|0.020746666666666667|\n",
      "|['Raspberry' 'Lemonade', 'Lemon' 'Cookie', 'Lemon' 'Lemonade']                   |['Raspberry' 'Cookie']  |0.9973985431841832|14.745691058311401|0.02556             |\n",
      "|['Green' 'Tea', 'Raspberry' 'Lemonade', 'Lemon' 'Lemonade']                      |['Lemon' 'Cookie']      |0.9967948717948718|14.655874413765025|0.020733333333333333|\n",
      "|['Raspberry' 'Cookie', 'Raspberry' 'Lemonade', 'Lemon' 'Cookie']                 |['Lemon' 'Lemonade']    |0.9953271028037384|14.585684390441653|0.02556             |\n",
      "+---------------------------------------------------------------------------------+------------------------+------------------+------------------+--------------------+\n",
      "only showing top 10 rows\n",
      "\n"
     ]
    }
   ],
   "source": [
    "# Sort association rules by confidence in descending order\n",
    "model_2.associationRules.orderBy(\"confidence\", ascending=False).show(10, truncate=False)"
   ]
  },
  {
   "cell_type": "code",
   "execution_count": 26,
   "metadata": {},
   "outputs": [
    {
     "data": {
      "image/png": "[encoded data removed]",
      "text/plain": [
       "<Figure size 1000x600 with 1 Axes>"
      ]
     },
     "metadata": {},
     "output_type": "display_data"
    }
   ],
   "source": [
    "import pandas as pd\n",
    "import matplotlib.pyplot as plt\n",
    "\n",
    "# Convert frequent itemsets to Pandas\n",
    "frequent_itemsets_pd = model_2.freqItemsets.toPandas()\n",
    "\n",
    "# Plot top 10 frequent itemsets\n",
    "frequent_itemsets_pd = frequent_itemsets_pd.nlargest(10, \"freq\")\n",
    "plt.figure(figsize=(10, 6))\n",
    "plt.barh(frequent_itemsets_pd[\"items\"].astype(str), frequent_itemsets_pd[\"freq\"], color=\"skyblue\")\n",
    "plt.xlabel(\"Frequency\")\n",
    "plt.ylabel(\"Itemsets\")\n",
    "plt.title(\"Top 10 Frequent Itemsets\")\n",
    "plt.gca().invert_yaxis()  # Reverse the order for better readability\n",
    "plt.show()"
   ]
  },
  {
   "cell_type": "markdown",
   "metadata": {},
   "source": [
    "## Marketing and Operational Strategy\n",
    "- **Marketing**: Use frequent itemsets and rules to create combo deals like \"Buy Raspberry Lemonade and get Lemon Cookies at 20% off.\"\n",
    "- **Inventory**: Prioritize stock for popular combinations like `[\"Coffee\", \"Eclair\"]`.\n",
    "- **Store Layout**: Place strongly associated items (e.g., `[\"Green Tea\"]` and `[\"Raspberry Lemonade\"]`) in proximity to encourage upselling."
   ]
  }
 ],
 "metadata": {
  "kernelspec": {
   "display_name": "Python 3",
   "language": "python",
   "name": "python3"
  },
  "language_info": {
   "codemirror_mode": {
    "name": "ipython",
    "version": 3
   },
   "file_extension": ".py",
   "mimetype": "text/x-python",
   "name": "python",
   "nbconvert_exporter": "python",
   "pygments_lexer": "ipython3",
   "version": "3.10.11"
  }
 },
 "nbformat": 4,
 "nbformat_minor": 2
}
